{
 "cells": [
  {
   "cell_type": "markdown",
   "id": "23ca14ee-8aa0-41a9-8a76-2b22b8297100",
   "metadata": {},
   "source": [
    "Creating a test notebook to test pushing and pulling."
   ]
  },
  {
   "cell_type": "code",
   "execution_count": 1,
   "id": "a36b95a7-e963-482b-ad36-f60093c61d44",
   "metadata": {},
   "outputs": [],
   "source": [
    "import pandas as pd\n",
    "import geopandas as gpd"
   ]
  },
  {
   "cell_type": "code",
   "execution_count": 2,
   "id": "9fa33ebd-1ad3-4cc9-bee0-dd6633b6135e",
   "metadata": {},
   "outputs": [
    {
     "name": "stderr",
     "output_type": "stream",
     "text": [
      "ERROR 1: PROJ: proj_create_from_database: Open of /opt/conda/share/proj failed\n"
     ]
    }
   ],
   "source": [
    "parks = gpd.read_file('pulltest/local_parks.zip')"
   ]
  },
  {
   "cell_type": "code",
   "execution_count": null,
   "id": "8da79bc2-bc51-493e-8622-ea06552d8d3e",
   "metadata": {},
   "outputs": [],
   "source": []
  }
 ],
 "metadata": {
  "kernelspec": {
   "display_name": "Python 3 (ipykernel)",
   "language": "python",
   "name": "python3"
  },
  "language_info": {
   "codemirror_mode": {
    "name": "ipython",
    "version": 3
   },
   "file_extension": ".py",
   "mimetype": "text/x-python",
   "name": "python",
   "nbconvert_exporter": "python",
   "pygments_lexer": "ipython3",
   "version": "3.11.7"
  }
 },
 "nbformat": 4,
 "nbformat_minor": 5
}
